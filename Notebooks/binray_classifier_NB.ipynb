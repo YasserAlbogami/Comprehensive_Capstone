{
  "nbformat": 4,
  "nbformat_minor": 0,
  "metadata": {
    "colab": {
      "provenance": []
    },
    "kernelspec": {
      "name": "python3",
      "display_name": "Python 3"
    },
    "language_info": {
      "name": "python"
    }
  },
  "cells": [
    {
      "cell_type": "code",
      "source": [
        "pip install pandas numpy scikit-learn lightgbm\n"
      ],
      "metadata": {
        "colab": {
          "base_uri": "https://localhost:8080/"
        },
        "id": "azdLf09aUz07",
        "outputId": "1c9a8a1b-9d5e-44b1-cbd4-4f99479f7a42"
      },
      "execution_count": null,
      "outputs": [
        {
          "output_type": "stream",
          "name": "stdout",
          "text": [
            "Requirement already satisfied: pandas in /usr/local/lib/python3.12/dist-packages (2.2.2)\n",
            "Requirement already satisfied: numpy in /usr/local/lib/python3.12/dist-packages (2.0.2)\n",
            "Requirement already satisfied: scikit-learn in /usr/local/lib/python3.12/dist-packages (1.6.1)\n",
            "Requirement already satisfied: lightgbm in /usr/local/lib/python3.12/dist-packages (4.6.0)\n",
            "Requirement already satisfied: python-dateutil>=2.8.2 in /usr/local/lib/python3.12/dist-packages (from pandas) (2.9.0.post0)\n",
            "Requirement already satisfied: pytz>=2020.1 in /usr/local/lib/python3.12/dist-packages (from pandas) (2025.2)\n",
            "Requirement already satisfied: tzdata>=2022.7 in /usr/local/lib/python3.12/dist-packages (from pandas) (2025.2)\n",
            "Requirement already satisfied: scipy>=1.6.0 in /usr/local/lib/python3.12/dist-packages (from scikit-learn) (1.16.1)\n",
            "Requirement already satisfied: joblib>=1.2.0 in /usr/local/lib/python3.12/dist-packages (from scikit-learn) (1.5.1)\n",
            "Requirement already satisfied: threadpoolctl>=3.1.0 in /usr/local/lib/python3.12/dist-packages (from scikit-learn) (3.6.0)\n",
            "Requirement already satisfied: six>=1.5 in /usr/local/lib/python3.12/dist-packages (from python-dateutil>=2.8.2->pandas) (1.17.0)\n"
          ]
        }
      ]
    },
    {
      "cell_type": "code",
      "execution_count": null,
      "metadata": {
        "id": "T3tnct22UOBN"
      },
      "outputs": [],
      "source": [
        "# Cell 0 — Imports\n",
        "import re\n",
        "import numpy as np\n",
        "import pandas as pd\n",
        "\n",
        "from sklearn.model_selection import train_test_split\n",
        "from sklearn.impute import SimpleImputer\n",
        "from sklearn.preprocessing import StandardScaler\n",
        "\n",
        "# If you haven't installed imbalanced-learn yet, run the next cell once:\n",
        "# !pip install imbalanced-learn\n",
        "from imblearn.under_sampling import RandomUnderSampler\n"
      ]
    },
    {
      "cell_type": "code",
      "source": [
        "file_path = \"/content/drive/MyDrive/Bootcamp_ML_Data_Science/Capstone_Project/model_with_out_source_data/data_extraction/merged_shuffled_20250822_185836.csv\"\n"
      ],
      "metadata": {
        "id": "Go8PdJSVUnS1"
      },
      "execution_count": null,
      "outputs": []
    },
    {
      "cell_type": "code",
      "source": [
        "head_df = pd.read_csv(file_path, nrows=5000)"
      ],
      "metadata": {
        "colab": {
          "base_uri": "https://localhost:8080/"
        },
        "id": "zh0igTw2Vwuz",
        "outputId": "15b17ab0-85f2-4415-f819-1e5699fd5740"
      },
      "execution_count": null,
      "outputs": [
        {
          "output_type": "stream",
          "name": "stderr",
          "text": [
            "/tmp/ipython-input-2160886268.py:1: DtypeWarning: Columns (45,62,65,118,119,136,138,142,143,145,166,197,203,204,205,215,218,219,247,248,250) have mixed types. Specify dtype option on import or set low_memory=False.\n",
            "  head_df = pd.read_csv(file_path, nrows=5000)\n"
          ]
        }
      ]
    },
    {
      "cell_type": "code",
      "source": [
        "target_col = \"Label\"\n",
        "selected_attacks = [\"SSDP\", \"Evil_Twin\", \"Krack\", \"Deauth\", \"(Re)Assoc\", \"RogueAP\"]"
      ],
      "metadata": {
        "id": "1D1eqTGQWuOQ"
      },
      "execution_count": null,
      "outputs": []
    },
    {
      "cell_type": "code",
      "source": [
        "cols = head_df.columns.tolist()\n",
        "assert target_col in cols, \"Label not found!\"\n",
        "\n",
        "allow_prefixes = (\"frame.\", \"radiotap.\", \"wlan.\", \"wlan_radio.\")\n",
        "\n",
        "block_exact = set([\n",
        "    \"frame.number\", \"frame.time\", \"frame.time_epoch\",\n",
        "    \"radiotap.mactime\", \"radiotap.present.tsft\", \"radiotap.timestamp.ts\",\n",
        "    \"wlan.bssid\",\"wlan.da\",\"wlan.ra\",\"wlan.sa\",\"wlan.ta\",\"wlan.ssid\",\"wlan.tag\",\"wlan.tag.length\",\n",
        "    \"wlan.analysis.kck\",\"wlan.analysis.kek\",\"wlan.rsn.ie.gtk.key\",\"wlan.rsn.ie.igtk.key\",\"wlan.rsn.ie.pmkid\",\n",
        "    \"wlan.fixed.timestamp\",\"wlan_rsna_eapol.keydes.msgnr\",\"wlan_rsna_eapol.keydes.data\",\n",
        "    \"wlan_rsna_eapol.keydes.data_len\",\"wlan_rsna_eapol.keydes.key_info.key_mic\",\"wlan_rsna_eapol.keydes.nonce\",\n",
        "])\n",
        "\n",
        "block_patterns = [\n",
        "    r\"(?i)\\b(bssid|ssid|mac|addr|oui|vendor|station|ra|ta|sa|da)\\b\",\n",
        "    r\"(?i)^(ip\\.|ipv6\\.|arp|tcp\\.|udp\\.|dns|http|json|ssh|tls|smb2?|nbns|nbss|ldap|dhcp|mdns|ssdp)\\b\",\n",
        "    r\"(?i)(payload|data\\.data|llc|eapol|key|nonce|pmkid|gtk|igtk|kck|kek)\",\n",
        "    r\"(?i)(pcap|source_file|capture|interface)\",\n",
        "    r\"(?i)(start_tsf|end_tsf|timestamp)\",\n",
        "]\n",
        "\n",
        "def allowed(col: str) -> bool:\n",
        "    if col == target_col:\n",
        "        return True\n",
        "    low = col.lower()\n",
        "    if not low.startswith(allow_prefixes):\n",
        "        return False\n",
        "    if col in block_exact:\n",
        "        return False\n",
        "    for pat in block_patterns:\n",
        "        if re.search(pat, low):\n",
        "            return False\n",
        "    return True"
      ],
      "metadata": {
        "id": "x9QvT5fkUpvr"
      },
      "execution_count": null,
      "outputs": []
    },
    {
      "cell_type": "code",
      "source": [
        "# Cell 3 — STEP 2: Compute keep_cols and load full data with only those\n",
        "keep_cols = [c for c in cols if allowed(c)]\n",
        "if target_col not in keep_cols:\n",
        "    keep_cols.append(target_col)\n",
        "\n",
        "print(\"عدد الأعمدة قبل:\", len(cols), \"| بعد:\", len(keep_cols))\n",
        "print(\"أول 30 عمود:\", keep_cols[:30])\n",
        "\n",
        "df = pd.read_csv(file_path, usecols=keep_cols)\n",
        "df.replace(\"?\", np.nan, inplace=True)\n"
      ],
      "metadata": {
        "colab": {
          "base_uri": "https://localhost:8080/"
        },
        "id": "6MQu38MAV7ro",
        "outputId": "19330c26-2b3a-4b8c-fb8f-dfe48fcaedb8"
      },
      "execution_count": null,
      "outputs": [
        {
          "output_type": "stream",
          "name": "stdout",
          "text": [
            "عدد الأعمدة قبل: 255 | بعد: 39\n",
            "أول 30 عمود: ['frame.encap_type', 'frame.len', 'frame.time_delta', 'frame.time_delta_displayed', 'frame.time_relative', 'radiotap.channel.flags.cck', 'radiotap.channel.flags.ofdm', 'radiotap.channel.freq', 'radiotap.datarate', 'radiotap.dbm_antsignal', 'radiotap.length', 'radiotap.rxflags', 'radiotap.vendor_oui', 'wlan.duration', 'wlan.country_info.fnm', 'wlan.country_info.code', 'wlan.fc.ds', 'wlan.fc.frag', 'wlan.fc.order', 'wlan.fc.moredata', 'wlan.fc.protected', 'wlan.fc.pwrmgt', 'wlan.fc.type', 'wlan.fc.retry', 'wlan.fc.subtype', 'wlan.fcs.bad_checksum', 'wlan.fixed.beacon', 'wlan.fixed.capabilities.ess', 'wlan.fixed.capabilities.ibss', 'wlan.fixed.reason_code']\n"
          ]
        },
        {
          "output_type": "stream",
          "name": "stderr",
          "text": [
            "/tmp/ipython-input-2955038656.py:9: DtypeWarning: Columns (23) have mixed types. Specify dtype option on import or set low_memory=False.\n",
            "  df = pd.read_csv(file_path, usecols=keep_cols)\n"
          ]
        }
      ]
    },
    {
      "cell_type": "code",
      "source": [
        "# Cell 4 — STEP 3: Filter to Normal + selected attacks, map to binary (0/1)\n",
        "mask = (df[target_col] == \"Normal\") | (df[target_col].isin(selected_attacks))\n",
        "df = df.loc[mask].copy()\n",
        "\n",
        "# Binary target: 0 = Normal, 1 = Attack\n",
        "df[\"Binary_Label\"] = (df[target_col] != \"Normal\").astype(int)\n",
        "\n",
        "# Separate features/target\n",
        "feature_cols = [c for c in df.columns if c not in [target_col, \"Binary_Label\"]]\n",
        "X = df[feature_cols].copy()\n",
        "y = df[\"Binary_Label\"].copy()\n",
        "\n",
        "print(\"Class counts (overall):\")\n",
        "print(y.value_counts().rename({0: \"Normal\", 1: \"Attack\"}))\n"
      ],
      "metadata": {
        "colab": {
          "base_uri": "https://localhost:8080/"
        },
        "id": "x7Og4nC9We3Q",
        "outputId": "940fd604-cba5-4303-d188-f436497caa8c"
      },
      "execution_count": null,
      "outputs": [
        {
          "output_type": "stream",
          "name": "stdout",
          "text": [
            "Class counts (overall):\n",
            "Binary_Label\n",
            "Normal    473728\n",
            "Attack     69710\n",
            "Name: count, dtype: int64\n"
          ]
        }
      ]
    },
    {
      "cell_type": "code",
      "source": [
        "# Cell ROS-1 — Install imbalanced-learn (run once if needed)\n",
        "# !pip install imbalanced-learn\n",
        "from imblearn.over_sampling import RandomOverSampler\n",
        "\n",
        "# Target 85% Normal / 15% Attack:\n",
        "desired_attack_prop = 0.15\n",
        "ratio = desired_attack_prop / (1 - desired_attack_prop)  # ≈ 0.17647\n",
        "\n",
        "ros = RandomOverSampler(sampling_strategy=ratio, random_state=42)\n",
        "X_bal, y_bal = ros.fit_resample(X, y)\n",
        "\n",
        "print(\"Overall counts AFTER ROS to ~85/15:\")\n",
        "print(y_bal.value_counts().rename({0: \"Normal\", 1: \"Attack\"}))\n"
      ],
      "metadata": {
        "colab": {
          "base_uri": "https://localhost:8080/"
        },
        "id": "HgIMHatDW1Vg",
        "outputId": "15944534-80f7-479b-e415-bb7b78aa29f3"
      },
      "execution_count": null,
      "outputs": [
        {
          "output_type": "stream",
          "name": "stdout",
          "text": [
            "Overall counts AFTER ROS to ~85/15:\n",
            "Binary_Label\n",
            "Normal    473728\n",
            "Attack     83599\n",
            "Name: count, dtype: int64\n"
          ]
        }
      ]
    },
    {
      "cell_type": "code",
      "source": [
        "# Cell SPLIT — Train/Test split AFTER ROS (keep stratification)\n",
        "from sklearn.model_selection import train_test_split\n",
        "\n",
        "X_tr, X_te, y_tr, y_te = train_test_split(\n",
        "    X_bal, y_bal, test_size=0.2, random_state=42, stratify=y_bal\n",
        ")\n",
        "\n",
        "print(\"Train counts:\")\n",
        "print(y_tr.value_counts().rename({0: \"Normal\", 1: \"Attack\"}))\n",
        "print(\"\\nTest counts:\")\n",
        "print(y_te.value_counts().rename({0: \"Normal\", 1: \"Attack\"}))\n"
      ],
      "metadata": {
        "colab": {
          "base_uri": "https://localhost:8080/"
        },
        "id": "WKckHp8gafXW",
        "outputId": "b5ae9156-e63d-4604-c7aa-0734fa4a1d5d"
      },
      "execution_count": null,
      "outputs": [
        {
          "output_type": "stream",
          "name": "stdout",
          "text": [
            "Train counts:\n",
            "Binary_Label\n",
            "Normal    378982\n",
            "Attack     66879\n",
            "Name: count, dtype: int64\n",
            "\n",
            "Test counts:\n",
            "Binary_Label\n",
            "Normal    94746\n",
            "Attack    16720\n",
            "Name: count, dtype: int64\n"
          ]
        }
      ]
    },
    {
      "cell_type": "code",
      "source": [
        "X_tr.shape"
      ],
      "metadata": {
        "colab": {
          "base_uri": "https://localhost:8080/"
        },
        "id": "icw6IZuTbh7M",
        "outputId": "5a080d01-fa49-410d-b965-74989569c15d"
      },
      "execution_count": null,
      "outputs": [
        {
          "output_type": "execute_result",
          "data": {
            "text/plain": [
              "(445861, 31)"
            ]
          },
          "metadata": {},
          "execution_count": 23
        }
      ]
    },
    {
      "cell_type": "code",
      "source": [
        "# Cell PRE-5 — Coerce mixed columns (numeric vs categorical) + drop almost-all-NaN\n",
        "import pandas as pd\n",
        "import numpy as np\n",
        "import re\n",
        "\n",
        "def coerce_mixed_columns(df_train, df_test, hex_ok=True, thresh=0.8):\n",
        "    df_train = df_train.copy()\n",
        "    df_test  = df_test.copy()\n",
        "    num_cols, cat_cols = [], []\n",
        "    for c in df_train.columns:\n",
        "        s_tr, s_te = df_train[c], df_test[c]\n",
        "        if s_tr.dtype == object or str(s_tr.dtype).startswith(\"string\"):\n",
        "            st_tr = s_tr.astype(str)\n",
        "            if hex_ok:\n",
        "                st_tr_num = pd.to_numeric(st_tr.str.replace(r\"^\\s*0x\", \"\", regex=True), errors=\"coerce\")\n",
        "            else:\n",
        "                st_tr_num = pd.to_numeric(st_tr, errors=\"coerce\")\n",
        "            if st_tr_num.notna().mean() >= thresh:\n",
        "                st_te = s_te.astype(str)\n",
        "                st_te_num = pd.to_numeric(st_te.str.replace(r\"^\\s*0x\", \"\", regex=True), errors=\"coerce\")\n",
        "                df_train[c] = st_tr_num.astype(\"float32\")\n",
        "                df_test[c]  = st_te_num.astype(\"float32\")\n",
        "                num_cols.append(c)\n",
        "            else:\n",
        "                df_train[c] = st_tr.astype(\"string\")\n",
        "                df_test[c]  = s_te.astype(\"string\")\n",
        "                cat_cols.append(c)\n",
        "        else:\n",
        "            num_cols.append(c)\n",
        "    return df_train, df_test, num_cols, cat_cols\n",
        "\n",
        "X_tr, X_te, num_cols, cat_cols = coerce_mixed_columns(X_tr, X_te, hex_ok=True, thresh=0.8)\n",
        "\n",
        "# Drop columns that are almost all NaN in TRAIN (mirror on TEST)\n",
        "na_ratio = X_tr.isna().mean()\n",
        "drop_almost = na_ratio[na_ratio > 0.98].index.tolist()\n",
        "if drop_almost:\n",
        "    X_tr.drop(columns=drop_almost, inplace=True, errors=\"ignore\")\n",
        "    X_te.drop(columns=[c for c in drop_almost if c in X_te.columns], inplace=True, errors=\"ignore\")\n",
        "    num_cols = [c for c in num_cols if c not in drop_almost]\n",
        "    cat_cols = [c for c in cat_cols if c not in drop_almost]\n",
        "\n",
        "print(\"بعد التوحيد → رقمية:\", len(num_cols), \"فئوية:\", len(cat_cols))\n"
      ],
      "metadata": {
        "colab": {
          "base_uri": "https://localhost:8080/"
        },
        "id": "mJU4t9VOajkx",
        "outputId": "8a54c628-69a2-43d9-a47f-94b6e4e419e7"
      },
      "execution_count": null,
      "outputs": [
        {
          "output_type": "stream",
          "name": "stdout",
          "text": [
            "بعد التوحيد → رقمية: 29 فئوية: 2\n"
          ]
        }
      ]
    },
    {
      "cell_type": "code",
      "source": [
        "# Cell PRE-5b — Inspect columns with missing values\n",
        "null_counts = X_tr.isna().sum()\n",
        "null_counts = null_counts[null_counts > 0].sort_values(ascending=False)\n",
        "\n",
        "print(\"Features with missing values (train):\")\n",
        "print(null_counts)\n",
        "\n",
        "print(\"\\nTotal columns with nulls:\", len(null_counts))\n"
      ],
      "metadata": {
        "colab": {
          "base_uri": "https://localhost:8080/"
        },
        "id": "4V5NluIGa1N4",
        "outputId": "ce6f3ab1-a79c-49b2-bd5b-0ac04906349b"
      },
      "execution_count": null,
      "outputs": [
        {
          "output_type": "stream",
          "name": "stdout",
          "text": [
            "Features with missing values (train):\n",
            "wlan.seq             211062\n",
            "radiotap.datarate    198785\n",
            "dtype: int64\n",
            "\n",
            "Total columns with nulls: 2\n"
          ]
        }
      ]
    },
    {
      "cell_type": "code",
      "source": [
        "# Cell PRE-5c — Show percentage of missing values\n",
        "null_ratio = (X_tr.isna().mean() * 100).sort_values(ascending=False)\n",
        "null_ratio = null_ratio[null_ratio > 0]\n",
        "\n",
        "print(\"Features with missing values (% of rows):\")\n",
        "print(null_ratio.round(2))\n"
      ],
      "metadata": {
        "colab": {
          "base_uri": "https://localhost:8080/"
        },
        "id": "ACxFenA_bHxT",
        "outputId": "c5d7e1ae-a409-426d-e97d-71917608a96e"
      },
      "execution_count": null,
      "outputs": [
        {
          "output_type": "stream",
          "name": "stdout",
          "text": [
            "Features with missing values (% of rows):\n",
            "wlan.seq             47.34\n",
            "radiotap.datarate    44.58\n",
            "dtype: float64\n"
          ]
        }
      ]
    },
    {
      "cell_type": "code",
      "source": [
        "# Cell 6a — Impute numeric with median (fit on TRAIN)\n",
        "from sklearn.impute import SimpleImputer\n",
        "import pandas as pd\n",
        "\n",
        "num_imputer = SimpleImputer(strategy=\"median\")\n",
        "\n",
        "if num_cols:\n",
        "    X_tr_num = pd.DataFrame(\n",
        "        num_imputer.fit_transform(X_tr[num_cols]),\n",
        "        columns=num_cols, index=X_tr.index\n",
        "    )\n",
        "    X_te_num = pd.DataFrame(\n",
        "        num_imputer.transform(X_te[num_cols]),\n",
        "        columns=num_cols, index=X_te.index\n",
        "    )\n",
        "else:\n",
        "    X_tr_num = pd.DataFrame(index=X_tr.index)\n",
        "    X_te_num = pd.DataFrame(index=X_te.index)\n",
        "\n",
        "print(\"Numeric imputed — shapes:\", X_tr_num.shape, X_te_num.shape)\n"
      ],
      "metadata": {
        "colab": {
          "base_uri": "https://localhost:8080/"
        },
        "id": "wmcpoZ4wbP3z",
        "outputId": "81021c7b-fe4e-4ab2-a224-60781a9fc153"
      },
      "execution_count": null,
      "outputs": [
        {
          "output_type": "stream",
          "name": "stdout",
          "text": [
            "Numeric imputed — shapes: (445861, 29) (111466, 29)\n"
          ]
        }
      ]
    },
    {
      "cell_type": "code",
      "source": [
        "# Cell 6b — Standardize numeric (z-score), fit on TRAIN\n",
        "from sklearn.preprocessing import StandardScaler\n",
        "\n",
        "scaler = StandardScaler(with_mean=True, with_std=True)\n",
        "\n",
        "if num_cols:\n",
        "    X_tr_num_scaled = pd.DataFrame(\n",
        "        scaler.fit_transform(X_tr_num),\n",
        "        columns=num_cols, index=X_tr.index\n",
        "    )\n",
        "    X_te_num_scaled = pd.DataFrame(\n",
        "        scaler.transform(X_te_num),\n",
        "        columns=num_cols, index=X_te.index\n",
        "    )\n",
        "else:\n",
        "    X_tr_num_scaled = X_tr_num.copy()\n",
        "    X_te_num_scaled = X_te_num.copy()\n",
        "\n",
        "print(\"Numeric standardized — shapes:\", X_tr_num_scaled.shape, X_te_num_scaled.shape)\n"
      ],
      "metadata": {
        "colab": {
          "base_uri": "https://localhost:8080/"
        },
        "id": "VyhTfFLfckQ_",
        "outputId": "cd167bca-0f29-448b-beec-4c5b8a26e8ab"
      },
      "execution_count": null,
      "outputs": [
        {
          "output_type": "stream",
          "name": "stdout",
          "text": [
            "Numeric standardized — shapes: (445861, 29) (111466, 29)\n"
          ]
        }
      ]
    },
    {
      "cell_type": "code",
      "source": [
        "# Cell 6c — Align categoricals across train/test (no encoding yet)\n",
        "import pandas as pd\n",
        "\n",
        "def _align_cats(tr: pd.Series, te: pd.Series, na_token=\"__NA__\"):\n",
        "    tr = tr.astype(\"string\").fillna(na_token)\n",
        "    te = te.astype(\"string\").fillna(na_token)\n",
        "    cats = pd.Index(sorted(pd.unique(pd.concat([tr, te], ignore_index=True))), name=tr.name)\n",
        "    tr = tr.astype(pd.CategoricalDtype(categories=cats, ordered=False))\n",
        "    te = te.astype(pd.CategoricalDtype(categories=cats, ordered=False))\n",
        "    return tr, te\n",
        "\n",
        "cat_tr_list, cat_te_list = [], []\n",
        "for c in cat_cols:\n",
        "    s_tr, s_te = _align_cats(X_tr[c], X_te[c])\n",
        "    cat_tr_list.append(s_tr.to_frame())\n",
        "    cat_te_list.append(s_te.to_frame())\n",
        "\n",
        "X_tr_cat = pd.concat(cat_tr_list, axis=1) if cat_tr_list else pd.DataFrame(index=X_tr.index)\n",
        "X_te_cat = pd.concat(cat_te_list, axis=1) if cat_te_list else pd.DataFrame(index=X_te.index)\n",
        "\n",
        "print(\"Categoricals aligned — shapes:\", X_tr_cat.shape, X_te_cat.shape)\n"
      ],
      "metadata": {
        "colab": {
          "base_uri": "https://localhost:8080/"
        },
        "id": "-OPfB5G7conI",
        "outputId": "e28d851a-b8da-4321-a3c0-b472ceb602a5"
      },
      "execution_count": null,
      "outputs": [
        {
          "output_type": "stream",
          "name": "stdout",
          "text": [
            "Categoricals aligned — shapes: (445861, 2) (111466, 2)\n"
          ]
        }
      ]
    },
    {
      "cell_type": "code",
      "source": [
        "# Cell 6d — Final preprocessed frames (numeric scaled + categorical aligned)\n",
        "import pandas as pd\n",
        "\n",
        "X_tr_pre = pd.concat([X_tr_num_scaled, X_tr_cat], axis=1)\n",
        "X_te_pre = pd.concat([X_te_num_scaled, X_te_cat], axis=1)\n",
        "\n",
        "print(\"Final shapes:\")\n",
        "print(\"X_tr_pre:\", X_tr_pre.shape, \"| X_te_pre:\", X_te_pre.shape)\n",
        "print(\"y_tr:\", y_tr.shape, \"| y_te:\", y_te.shape)\n",
        "\n",
        "print(\"\\nDtypes summary (train):\")\n",
        "print(X_tr_pre.dtypes.value_counts())\n",
        "\n",
        "# Quick NA check after imputation (numerics should be clean)\n",
        "print(\"\\nAny NaNs left?  train:\", X_tr_pre.isna().any().any(), \" | test:\", X_te_pre.isna().any().any())\n",
        "\n",
        "# Peek a few columns\n",
        "print(\"\\nSample columns:\", list(X_tr_pre.columns[:]))\n"
      ],
      "metadata": {
        "colab": {
          "base_uri": "https://localhost:8080/"
        },
        "id": "CzJNn7yecsnr",
        "outputId": "cbf25ae8-ebe4-46c5-ed0f-736d24d3dfae"
      },
      "execution_count": null,
      "outputs": [
        {
          "output_type": "stream",
          "name": "stdout",
          "text": [
            "Final shapes:\n",
            "X_tr_pre: (445861, 31) | X_te_pre: (111466, 31)\n",
            "y_tr: (445861,) | y_te: (111466,)\n",
            "\n",
            "Dtypes summary (train):\n",
            "float64     29\n",
            "category     1\n",
            "category     1\n",
            "Name: count, dtype: int64\n",
            "\n",
            "Any NaNs left?  train: False  | test: False\n",
            "\n",
            "Sample columns: ['frame.encap_type', 'frame.len', 'frame.time_delta', 'frame.time_delta_displayed', 'frame.time_relative', 'radiotap.channel.flags.cck', 'radiotap.channel.flags.ofdm', 'radiotap.channel.freq', 'radiotap.datarate', 'radiotap.dbm_antsignal', 'radiotap.length', 'radiotap.rxflags', 'wlan.duration', 'wlan.fc.ds', 'wlan.fc.frag', 'wlan.fc.order', 'wlan.fc.moredata', 'wlan.fc.protected', 'wlan.fc.pwrmgt', 'wlan.fc.type', 'wlan.fc.retry', 'wlan.fc.subtype', 'wlan_radio.duration', 'wlan.seq', 'wlan_radio.channel', 'wlan_radio.data_rate', 'wlan_radio.frequency', 'wlan_radio.signal_dbm', 'wlan_radio.phy', 'wlan.country_info.fnm', 'wlan.country_info.code']\n"
          ]
        }
      ]
    },
    {
      "cell_type": "code",
      "source": [
        "# Show all column names in order\n",
        "print(\"\\nAll feature columns (train):\")\n",
        "for i, c in enumerate(X_tr_pre.columns, start=1):\n",
        "    print(f\"{i:3d}. {c}\")\n",
        "\n",
        "# Or, if you want as a DataFrame (easier to scroll in Jupyter):\n",
        "pd.DataFrame({\"Feature\": X_tr_pre.columns.tolist()})\n"
      ],
      "metadata": {
        "colab": {
          "base_uri": "https://localhost:8080/",
          "height": 1000
        },
        "id": "t04OWSljcuKb",
        "outputId": "b873888c-3a38-43f3-f30d-97d04e265cdc"
      },
      "execution_count": null,
      "outputs": [
        {
          "output_type": "stream",
          "name": "stdout",
          "text": [
            "\n",
            "All feature columns (train):\n",
            "  1. frame.encap_type\n",
            "  2. frame.len\n",
            "  3. frame.time_delta\n",
            "  4. frame.time_delta_displayed\n",
            "  5. frame.time_relative\n",
            "  6. radiotap.channel.flags.cck\n",
            "  7. radiotap.channel.flags.ofdm\n",
            "  8. radiotap.channel.freq\n",
            "  9. radiotap.datarate\n",
            " 10. radiotap.dbm_antsignal\n",
            " 11. radiotap.length\n",
            " 12. radiotap.rxflags\n",
            " 13. wlan.duration\n",
            " 14. wlan.fc.ds\n",
            " 15. wlan.fc.frag\n",
            " 16. wlan.fc.order\n",
            " 17. wlan.fc.moredata\n",
            " 18. wlan.fc.protected\n",
            " 19. wlan.fc.pwrmgt\n",
            " 20. wlan.fc.type\n",
            " 21. wlan.fc.retry\n",
            " 22. wlan.fc.subtype\n",
            " 23. wlan_radio.duration\n",
            " 24. wlan.seq\n",
            " 25. wlan_radio.channel\n",
            " 26. wlan_radio.data_rate\n",
            " 27. wlan_radio.frequency\n",
            " 28. wlan_radio.signal_dbm\n",
            " 29. wlan_radio.phy\n",
            " 30. wlan.country_info.fnm\n",
            " 31. wlan.country_info.code\n"
          ]
        },
        {
          "output_type": "execute_result",
          "data": {
            "text/plain": [
              "                        Feature\n",
              "0              frame.encap_type\n",
              "1                     frame.len\n",
              "2              frame.time_delta\n",
              "3    frame.time_delta_displayed\n",
              "4           frame.time_relative\n",
              "5    radiotap.channel.flags.cck\n",
              "6   radiotap.channel.flags.ofdm\n",
              "7         radiotap.channel.freq\n",
              "8             radiotap.datarate\n",
              "9        radiotap.dbm_antsignal\n",
              "10              radiotap.length\n",
              "11             radiotap.rxflags\n",
              "12                wlan.duration\n",
              "13                   wlan.fc.ds\n",
              "14                 wlan.fc.frag\n",
              "15                wlan.fc.order\n",
              "16             wlan.fc.moredata\n",
              "17            wlan.fc.protected\n",
              "18               wlan.fc.pwrmgt\n",
              "19                 wlan.fc.type\n",
              "20                wlan.fc.retry\n",
              "21              wlan.fc.subtype\n",
              "22          wlan_radio.duration\n",
              "23                     wlan.seq\n",
              "24           wlan_radio.channel\n",
              "25         wlan_radio.data_rate\n",
              "26         wlan_radio.frequency\n",
              "27        wlan_radio.signal_dbm\n",
              "28               wlan_radio.phy\n",
              "29        wlan.country_info.fnm\n",
              "30       wlan.country_info.code"
            ],
            "text/html": [
              "\n",
              "  <div id=\"df-9f9cd42a-4e0b-4919-8976-e032958c68f2\" class=\"colab-df-container\">\n",
              "    <div>\n",
              "<style scoped>\n",
              "    .dataframe tbody tr th:only-of-type {\n",
              "        vertical-align: middle;\n",
              "    }\n",
              "\n",
              "    .dataframe tbody tr th {\n",
              "        vertical-align: top;\n",
              "    }\n",
              "\n",
              "    .dataframe thead th {\n",
              "        text-align: right;\n",
              "    }\n",
              "</style>\n",
              "<table border=\"1\" class=\"dataframe\">\n",
              "  <thead>\n",
              "    <tr style=\"text-align: right;\">\n",
              "      <th></th>\n",
              "      <th>Feature</th>\n",
              "    </tr>\n",
              "  </thead>\n",
              "  <tbody>\n",
              "    <tr>\n",
              "      <th>0</th>\n",
              "      <td>frame.encap_type</td>\n",
              "    </tr>\n",
              "    <tr>\n",
              "      <th>1</th>\n",
              "      <td>frame.len</td>\n",
              "    </tr>\n",
              "    <tr>\n",
              "      <th>2</th>\n",
              "      <td>frame.time_delta</td>\n",
              "    </tr>\n",
              "    <tr>\n",
              "      <th>3</th>\n",
              "      <td>frame.time_delta_displayed</td>\n",
              "    </tr>\n",
              "    <tr>\n",
              "      <th>4</th>\n",
              "      <td>frame.time_relative</td>\n",
              "    </tr>\n",
              "    <tr>\n",
              "      <th>5</th>\n",
              "      <td>radiotap.channel.flags.cck</td>\n",
              "    </tr>\n",
              "    <tr>\n",
              "      <th>6</th>\n",
              "      <td>radiotap.channel.flags.ofdm</td>\n",
              "    </tr>\n",
              "    <tr>\n",
              "      <th>7</th>\n",
              "      <td>radiotap.channel.freq</td>\n",
              "    </tr>\n",
              "    <tr>\n",
              "      <th>8</th>\n",
              "      <td>radiotap.datarate</td>\n",
              "    </tr>\n",
              "    <tr>\n",
              "      <th>9</th>\n",
              "      <td>radiotap.dbm_antsignal</td>\n",
              "    </tr>\n",
              "    <tr>\n",
              "      <th>10</th>\n",
              "      <td>radiotap.length</td>\n",
              "    </tr>\n",
              "    <tr>\n",
              "      <th>11</th>\n",
              "      <td>radiotap.rxflags</td>\n",
              "    </tr>\n",
              "    <tr>\n",
              "      <th>12</th>\n",
              "      <td>wlan.duration</td>\n",
              "    </tr>\n",
              "    <tr>\n",
              "      <th>13</th>\n",
              "      <td>wlan.fc.ds</td>\n",
              "    </tr>\n",
              "    <tr>\n",
              "      <th>14</th>\n",
              "      <td>wlan.fc.frag</td>\n",
              "    </tr>\n",
              "    <tr>\n",
              "      <th>15</th>\n",
              "      <td>wlan.fc.order</td>\n",
              "    </tr>\n",
              "    <tr>\n",
              "      <th>16</th>\n",
              "      <td>wlan.fc.moredata</td>\n",
              "    </tr>\n",
              "    <tr>\n",
              "      <th>17</th>\n",
              "      <td>wlan.fc.protected</td>\n",
              "    </tr>\n",
              "    <tr>\n",
              "      <th>18</th>\n",
              "      <td>wlan.fc.pwrmgt</td>\n",
              "    </tr>\n",
              "    <tr>\n",
              "      <th>19</th>\n",
              "      <td>wlan.fc.type</td>\n",
              "    </tr>\n",
              "    <tr>\n",
              "      <th>20</th>\n",
              "      <td>wlan.fc.retry</td>\n",
              "    </tr>\n",
              "    <tr>\n",
              "      <th>21</th>\n",
              "      <td>wlan.fc.subtype</td>\n",
              "    </tr>\n",
              "    <tr>\n",
              "      <th>22</th>\n",
              "      <td>wlan_radio.duration</td>\n",
              "    </tr>\n",
              "    <tr>\n",
              "      <th>23</th>\n",
              "      <td>wlan.seq</td>\n",
              "    </tr>\n",
              "    <tr>\n",
              "      <th>24</th>\n",
              "      <td>wlan_radio.channel</td>\n",
              "    </tr>\n",
              "    <tr>\n",
              "      <th>25</th>\n",
              "      <td>wlan_radio.data_rate</td>\n",
              "    </tr>\n",
              "    <tr>\n",
              "      <th>26</th>\n",
              "      <td>wlan_radio.frequency</td>\n",
              "    </tr>\n",
              "    <tr>\n",
              "      <th>27</th>\n",
              "      <td>wlan_radio.signal_dbm</td>\n",
              "    </tr>\n",
              "    <tr>\n",
              "      <th>28</th>\n",
              "      <td>wlan_radio.phy</td>\n",
              "    </tr>\n",
              "    <tr>\n",
              "      <th>29</th>\n",
              "      <td>wlan.country_info.fnm</td>\n",
              "    </tr>\n",
              "    <tr>\n",
              "      <th>30</th>\n",
              "      <td>wlan.country_info.code</td>\n",
              "    </tr>\n",
              "  </tbody>\n",
              "</table>\n",
              "</div>\n",
              "    <div class=\"colab-df-buttons\">\n",
              "\n",
              "  <div class=\"colab-df-container\">\n",
              "    <button class=\"colab-df-convert\" onclick=\"convertToInteractive('df-9f9cd42a-4e0b-4919-8976-e032958c68f2')\"\n",
              "            title=\"Convert this dataframe to an interactive table.\"\n",
              "            style=\"display:none;\">\n",
              "\n",
              "  <svg xmlns=\"http://www.w3.org/2000/svg\" height=\"24px\" viewBox=\"0 -960 960 960\">\n",
              "    <path d=\"M120-120v-720h720v720H120Zm60-500h600v-160H180v160Zm220 220h160v-160H400v160Zm0 220h160v-160H400v160ZM180-400h160v-160H180v160Zm440 0h160v-160H620v160ZM180-180h160v-160H180v160Zm440 0h160v-160H620v160Z\"/>\n",
              "  </svg>\n",
              "    </button>\n",
              "\n",
              "  <style>\n",
              "    .colab-df-container {\n",
              "      display:flex;\n",
              "      gap: 12px;\n",
              "    }\n",
              "\n",
              "    .colab-df-convert {\n",
              "      background-color: #E8F0FE;\n",
              "      border: none;\n",
              "      border-radius: 50%;\n",
              "      cursor: pointer;\n",
              "      display: none;\n",
              "      fill: #1967D2;\n",
              "      height: 32px;\n",
              "      padding: 0 0 0 0;\n",
              "      width: 32px;\n",
              "    }\n",
              "\n",
              "    .colab-df-convert:hover {\n",
              "      background-color: #E2EBFA;\n",
              "      box-shadow: 0px 1px 2px rgba(60, 64, 67, 0.3), 0px 1px 3px 1px rgba(60, 64, 67, 0.15);\n",
              "      fill: #174EA6;\n",
              "    }\n",
              "\n",
              "    .colab-df-buttons div {\n",
              "      margin-bottom: 4px;\n",
              "    }\n",
              "\n",
              "    [theme=dark] .colab-df-convert {\n",
              "      background-color: #3B4455;\n",
              "      fill: #D2E3FC;\n",
              "    }\n",
              "\n",
              "    [theme=dark] .colab-df-convert:hover {\n",
              "      background-color: #434B5C;\n",
              "      box-shadow: 0px 1px 3px 1px rgba(0, 0, 0, 0.15);\n",
              "      filter: drop-shadow(0px 1px 2px rgba(0, 0, 0, 0.3));\n",
              "      fill: #FFFFFF;\n",
              "    }\n",
              "  </style>\n",
              "\n",
              "    <script>\n",
              "      const buttonEl =\n",
              "        document.querySelector('#df-9f9cd42a-4e0b-4919-8976-e032958c68f2 button.colab-df-convert');\n",
              "      buttonEl.style.display =\n",
              "        google.colab.kernel.accessAllowed ? 'block' : 'none';\n",
              "\n",
              "      async function convertToInteractive(key) {\n",
              "        const element = document.querySelector('#df-9f9cd42a-4e0b-4919-8976-e032958c68f2');\n",
              "        const dataTable =\n",
              "          await google.colab.kernel.invokeFunction('convertToInteractive',\n",
              "                                                    [key], {});\n",
              "        if (!dataTable) return;\n",
              "\n",
              "        const docLinkHtml = 'Like what you see? Visit the ' +\n",
              "          '<a target=\"_blank\" href=https://colab.research.google.com/notebooks/data_table.ipynb>data table notebook</a>'\n",
              "          + ' to learn more about interactive tables.';\n",
              "        element.innerHTML = '';\n",
              "        dataTable['output_type'] = 'display_data';\n",
              "        await google.colab.output.renderOutput(dataTable, element);\n",
              "        const docLink = document.createElement('div');\n",
              "        docLink.innerHTML = docLinkHtml;\n",
              "        element.appendChild(docLink);\n",
              "      }\n",
              "    </script>\n",
              "  </div>\n",
              "\n",
              "\n",
              "    <div id=\"df-25453b07-f6df-45d4-a0b0-d1e1646400b0\">\n",
              "      <button class=\"colab-df-quickchart\" onclick=\"quickchart('df-25453b07-f6df-45d4-a0b0-d1e1646400b0')\"\n",
              "                title=\"Suggest charts\"\n",
              "                style=\"display:none;\">\n",
              "\n",
              "<svg xmlns=\"http://www.w3.org/2000/svg\" height=\"24px\"viewBox=\"0 0 24 24\"\n",
              "     width=\"24px\">\n",
              "    <g>\n",
              "        <path d=\"M19 3H5c-1.1 0-2 .9-2 2v14c0 1.1.9 2 2 2h14c1.1 0 2-.9 2-2V5c0-1.1-.9-2-2-2zM9 17H7v-7h2v7zm4 0h-2V7h2v10zm4 0h-2v-4h2v4z\"/>\n",
              "    </g>\n",
              "</svg>\n",
              "      </button>\n",
              "\n",
              "<style>\n",
              "  .colab-df-quickchart {\n",
              "      --bg-color: #E8F0FE;\n",
              "      --fill-color: #1967D2;\n",
              "      --hover-bg-color: #E2EBFA;\n",
              "      --hover-fill-color: #174EA6;\n",
              "      --disabled-fill-color: #AAA;\n",
              "      --disabled-bg-color: #DDD;\n",
              "  }\n",
              "\n",
              "  [theme=dark] .colab-df-quickchart {\n",
              "      --bg-color: #3B4455;\n",
              "      --fill-color: #D2E3FC;\n",
              "      --hover-bg-color: #434B5C;\n",
              "      --hover-fill-color: #FFFFFF;\n",
              "      --disabled-bg-color: #3B4455;\n",
              "      --disabled-fill-color: #666;\n",
              "  }\n",
              "\n",
              "  .colab-df-quickchart {\n",
              "    background-color: var(--bg-color);\n",
              "    border: none;\n",
              "    border-radius: 50%;\n",
              "    cursor: pointer;\n",
              "    display: none;\n",
              "    fill: var(--fill-color);\n",
              "    height: 32px;\n",
              "    padding: 0;\n",
              "    width: 32px;\n",
              "  }\n",
              "\n",
              "  .colab-df-quickchart:hover {\n",
              "    background-color: var(--hover-bg-color);\n",
              "    box-shadow: 0 1px 2px rgba(60, 64, 67, 0.3), 0 1px 3px 1px rgba(60, 64, 67, 0.15);\n",
              "    fill: var(--button-hover-fill-color);\n",
              "  }\n",
              "\n",
              "  .colab-df-quickchart-complete:disabled,\n",
              "  .colab-df-quickchart-complete:disabled:hover {\n",
              "    background-color: var(--disabled-bg-color);\n",
              "    fill: var(--disabled-fill-color);\n",
              "    box-shadow: none;\n",
              "  }\n",
              "\n",
              "  .colab-df-spinner {\n",
              "    border: 2px solid var(--fill-color);\n",
              "    border-color: transparent;\n",
              "    border-bottom-color: var(--fill-color);\n",
              "    animation:\n",
              "      spin 1s steps(1) infinite;\n",
              "  }\n",
              "\n",
              "  @keyframes spin {\n",
              "    0% {\n",
              "      border-color: transparent;\n",
              "      border-bottom-color: var(--fill-color);\n",
              "      border-left-color: var(--fill-color);\n",
              "    }\n",
              "    20% {\n",
              "      border-color: transparent;\n",
              "      border-left-color: var(--fill-color);\n",
              "      border-top-color: var(--fill-color);\n",
              "    }\n",
              "    30% {\n",
              "      border-color: transparent;\n",
              "      border-left-color: var(--fill-color);\n",
              "      border-top-color: var(--fill-color);\n",
              "      border-right-color: var(--fill-color);\n",
              "    }\n",
              "    40% {\n",
              "      border-color: transparent;\n",
              "      border-right-color: var(--fill-color);\n",
              "      border-top-color: var(--fill-color);\n",
              "    }\n",
              "    60% {\n",
              "      border-color: transparent;\n",
              "      border-right-color: var(--fill-color);\n",
              "    }\n",
              "    80% {\n",
              "      border-color: transparent;\n",
              "      border-right-color: var(--fill-color);\n",
              "      border-bottom-color: var(--fill-color);\n",
              "    }\n",
              "    90% {\n",
              "      border-color: transparent;\n",
              "      border-bottom-color: var(--fill-color);\n",
              "    }\n",
              "  }\n",
              "</style>\n",
              "\n",
              "      <script>\n",
              "        async function quickchart(key) {\n",
              "          const quickchartButtonEl =\n",
              "            document.querySelector('#' + key + ' button');\n",
              "          quickchartButtonEl.disabled = true;  // To prevent multiple clicks.\n",
              "          quickchartButtonEl.classList.add('colab-df-spinner');\n",
              "          try {\n",
              "            const charts = await google.colab.kernel.invokeFunction(\n",
              "                'suggestCharts', [key], {});\n",
              "          } catch (error) {\n",
              "            console.error('Error during call to suggestCharts:', error);\n",
              "          }\n",
              "          quickchartButtonEl.classList.remove('colab-df-spinner');\n",
              "          quickchartButtonEl.classList.add('colab-df-quickchart-complete');\n",
              "        }\n",
              "        (() => {\n",
              "          let quickchartButtonEl =\n",
              "            document.querySelector('#df-25453b07-f6df-45d4-a0b0-d1e1646400b0 button');\n",
              "          quickchartButtonEl.style.display =\n",
              "            google.colab.kernel.accessAllowed ? 'block' : 'none';\n",
              "        })();\n",
              "      </script>\n",
              "    </div>\n",
              "\n",
              "    </div>\n",
              "  </div>\n"
            ],
            "application/vnd.google.colaboratory.intrinsic+json": {
              "type": "dataframe",
              "summary": "{\n  \"name\": \"pd\",\n  \"rows\": 31,\n  \"fields\": [\n    {\n      \"column\": \"Feature\",\n      \"properties\": {\n        \"dtype\": \"string\",\n        \"num_unique_values\": 31,\n        \"samples\": [\n          \"wlan_radio.signal_dbm\",\n          \"wlan.fc.order\",\n          \"wlan.seq\"\n        ],\n        \"semantic_type\": \"\",\n        \"description\": \"\"\n      }\n    }\n  ]\n}"
            }
          },
          "metadata": {},
          "execution_count": 28
        }
      ]
    },
    {
      "cell_type": "code",
      "source": [
        "# LGB-0 — Install (only if needed)\n",
        "# !pip install lightgbm\n",
        "import lightgbm as lgb\n",
        "import numpy as np\n",
        "import pandas as pd\n",
        "from sklearn.metrics import (\n",
        "    classification_report, confusion_matrix,\n",
        "    roc_auc_score, average_precision_score, precision_recall_fscore_support\n",
        ")\n"
      ],
      "metadata": {
        "id": "IJ-BnDP_c4jz"
      },
      "execution_count": null,
      "outputs": []
    },
    {
      "cell_type": "code",
      "source": [
        "# LGB-1 — Build LightGBM Datasets (native categorical support)\n",
        "# cat_cols should be the SAME categorical column names you had earlier.\n",
        "# If you don't still have `cat_cols`, we can infer from dtypes:\n",
        "cat_cols_in_pre = [c for c in X_tr_pre.columns if str(X_tr_pre[c].dtype) == \"category\"]\n",
        "\n",
        "print(\"Categorical columns LightGBM will treat as categorical:\", cat_cols_in_pre)\n",
        "\n",
        "lgb_train = lgb.Dataset(\n",
        "    X_tr_pre, label=y_tr,\n",
        "    categorical_feature=cat_cols_in_pre, free_raw_data=False\n",
        ")\n",
        "lgb_valid = lgb.Dataset(\n",
        "    X_te_pre, label=y_te,\n",
        "    categorical_feature=cat_cols_in_pre, reference=lgb_train, free_raw_data=False\n",
        ")\n"
      ],
      "metadata": {
        "colab": {
          "base_uri": "https://localhost:8080/"
        },
        "id": "Nng64DiWfN4l",
        "outputId": "3e0a16d6-27a9-4f33-e554-80f3c8f8b3f3"
      },
      "execution_count": null,
      "outputs": [
        {
          "output_type": "stream",
          "name": "stdout",
          "text": [
            "Categorical columns LightGBM will treat as categorical: ['wlan.country_info.fnm', 'wlan.country_info.code']\n"
          ]
        }
      ]
    },
    {
      "cell_type": "code",
      "source": [
        "# LGB-2 — Train (fixed for new LightGBM API)\n",
        "from lightgbm import early_stopping, log_evaluation\n",
        "\n",
        "params = {\n",
        "    \"objective\": \"binary\",\n",
        "    \"metric\": [\"auc\", \"binary_logloss\"],\n",
        "    \"learning_rate\": 0.05,\n",
        "    \"num_leaves\": 64,\n",
        "    \"min_data_in_leaf\": 50,\n",
        "    \"feature_fraction\": 0.9,\n",
        "    \"bagging_fraction\": 0.8,\n",
        "    \"bagging_freq\": 1,\n",
        "    \"lambda_l2\": 2.0,\n",
        "    \"verbosity\": -1,\n",
        "}\n",
        "\n",
        "model = lgb.train(\n",
        "    params,\n",
        "    lgb_train,\n",
        "    valid_sets=[lgb_train, lgb_valid],\n",
        "    valid_names=[\"train\", \"valid\"],\n",
        "    num_boost_round=1000,\n",
        "    callbacks=[\n",
        "        early_stopping(stopping_rounds=75, verbose=True),\n",
        "        log_evaluation(period=50)\n",
        "    ]\n",
        ")\n",
        "\n",
        "print(\"Best iteration:\", model.best_iteration)\n"
      ],
      "metadata": {
        "colab": {
          "base_uri": "https://localhost:8080/"
        },
        "id": "aJ8t6FRvfZ70",
        "outputId": "3b83f835-cc6f-4650-8e93-54035f9d3284"
      },
      "execution_count": null,
      "outputs": [
        {
          "output_type": "stream",
          "name": "stdout",
          "text": [
            "Training until validation scores don't improve for 75 rounds\n",
            "[50]\ttrain's auc: 0.99999\ttrain's binary_logloss: 0.0235319\tvalid's auc: 0.999992\tvalid's binary_logloss: 0.0233851\n",
            "[100]\ttrain's auc: 0.999993\ttrain's binary_logloss: 0.00380283\tvalid's auc: 0.999994\tvalid's binary_logloss: 0.00375417\n",
            "[150]\ttrain's auc: 0.999994\ttrain's binary_logloss: 0.00195624\tvalid's auc: 0.999994\tvalid's binary_logloss: 0.00203091\n",
            "[200]\ttrain's auc: 0.999996\ttrain's binary_logloss: 0.00162455\tvalid's auc: 0.999995\tvalid's binary_logloss: 0.00182128\n",
            "[250]\ttrain's auc: 0.999997\ttrain's binary_logloss: 0.00146958\tvalid's auc: 0.999995\tvalid's binary_logloss: 0.00179399\n",
            "[300]\ttrain's auc: 0.999998\ttrain's binary_logloss: 0.00137063\tvalid's auc: 0.999994\tvalid's binary_logloss: 0.00181892\n",
            "Early stopping, best iteration is:\n",
            "[245]\ttrain's auc: 0.999997\ttrain's binary_logloss: 0.00148164\tvalid's auc: 0.999995\tvalid's binary_logloss: 0.00179493\n",
            "Best iteration: 245\n"
          ]
        }
      ]
    },
    {
      "cell_type": "code",
      "source": [
        "# LGB-3 — Evaluate @ default threshold 0.50\n",
        "import numpy as np\n",
        "from sklearn.metrics import (\n",
        "    classification_report, confusion_matrix,\n",
        "    roc_auc_score, average_precision_score\n",
        ")\n",
        "\n",
        "best_iter = model.best_iteration if getattr(model, \"best_iteration\", None) else model.current_iteration()\n",
        "y_prob = model.predict(X_te_pre, num_iteration=best_iter)\n",
        "y_pred = (y_prob >= 0.50).astype(int)\n",
        "\n",
        "print(\"\\nConfusion matrix (thr=0.50):\")\n",
        "print(confusion_matrix(y_te, y_pred))\n",
        "\n",
        "print(\"\\nClassification report (thr=0.50):\")\n",
        "print(classification_report(y_te, y_pred, digits=4))\n",
        "\n",
        "roc = roc_auc_score(y_te, y_prob)\n",
        "pr_auc = average_precision_score(y_te, y_prob)\n",
        "print(f\"ROC-AUC: {roc:.4f} | PR-AUC: {pr_auc:.4f}\")\n"
      ],
      "metadata": {
        "colab": {
          "base_uri": "https://localhost:8080/"
        },
        "id": "op6ARAoFflE1",
        "outputId": "cb11ea89-ab93-4b3d-9e37-c16697111fbc"
      },
      "execution_count": null,
      "outputs": [
        {
          "output_type": "stream",
          "name": "stdout",
          "text": [
            "\n",
            "Confusion matrix (thr=0.50):\n",
            "[[94681    65]\n",
            " [   12 16708]]\n",
            "\n",
            "Classification report (thr=0.50):\n",
            "              precision    recall  f1-score   support\n",
            "\n",
            "           0     0.9999    0.9993    0.9996     94746\n",
            "           1     0.9961    0.9993    0.9977     16720\n",
            "\n",
            "    accuracy                         0.9993    111466\n",
            "   macro avg     0.9980    0.9993    0.9986    111466\n",
            "weighted avg     0.9993    0.9993    0.9993    111466\n",
            "\n",
            "ROC-AUC: 1.0000 | PR-AUC: 1.0000\n"
          ]
        }
      ]
    },
    {
      "cell_type": "code",
      "source": [
        "# LGB-4 — Threshold sweep to maximize F1 for Attack (class=1)\n",
        "from sklearn.metrics import precision_recall_fscore_support\n",
        "\n",
        "best_thr, best_f1 = 0.5, -1.0\n",
        "thr_grid = np.linspace(0.10, 0.90, 33)\n",
        "for thr in thr_grid:\n",
        "    pred = (y_prob >= thr).astype(int)\n",
        "    _, _, f1, _ = precision_recall_fscore_support(y_te, pred, average=\"binary\", zero_division=0)\n",
        "    if f1 > best_f1:\n",
        "        best_f1, best_thr = f1, thr\n",
        "\n",
        "print(f\"Best F1 for Attack ≈ {best_f1:.4f} at threshold = {best_thr:.2f}\")\n",
        "\n",
        "# Metrics at the optimal threshold\n",
        "y_pred_opt = (y_prob >= best_thr).astype(int)\n",
        "print(\"\\nConfusion matrix (optimal threshold):\")\n",
        "print(confusion_matrix(y_te, y_pred_opt))\n",
        "print(\"\\nClassification report (optimal threshold):\")\n",
        "print(classification_report(y_te, y_pred_opt, digits=4))\n"
      ],
      "metadata": {
        "colab": {
          "base_uri": "https://localhost:8080/"
        },
        "id": "TZBKqViHhSEm",
        "outputId": "3a5ba64b-c893-4240-9c30-fcd76298c147"
      },
      "execution_count": null,
      "outputs": [
        {
          "output_type": "stream",
          "name": "stdout",
          "text": [
            "Best F1 for Attack ≈ 0.9978 at threshold = 0.40\n",
            "\n",
            "Confusion matrix (optimal threshold):\n",
            "[[94677    69]\n",
            " [    6 16714]]\n",
            "\n",
            "Classification report (optimal threshold):\n",
            "              precision    recall  f1-score   support\n",
            "\n",
            "           0     0.9999    0.9993    0.9996     94746\n",
            "           1     0.9959    0.9996    0.9978     16720\n",
            "\n",
            "    accuracy                         0.9993    111466\n",
            "   macro avg     0.9979    0.9995    0.9987    111466\n",
            "weighted avg     0.9993    0.9993    0.9993    111466\n",
            "\n"
          ]
        }
      ]
    },
    {
      "cell_type": "code",
      "source": [
        "# LGB-5 — Top features (by gain)\n",
        "importances = model.feature_importance(importance_type=\"gain\")\n",
        "feat_names = X_tr_pre.columns.tolist()\n",
        "topk = max(30, len(feat_names))\n",
        "fi_sorted = sorted(zip(feat_names, importances), key=lambda x: x[1], reverse=True)[:topk]\n",
        "\n",
        "print(f\"\\nTop {topk} features (by gain):\")\n",
        "for i, (f, imp) in enumerate(fi_sorted, 1):\n",
        "    print(f\"{i:2d}. {f:40s} {imp:.2f}\")\n"
      ],
      "metadata": {
        "colab": {
          "base_uri": "https://localhost:8080/"
        },
        "id": "ooV_LDS4hb4S",
        "outputId": "3911c09d-24a5-43a4-aaa2-7d416d93dcb2"
      },
      "execution_count": null,
      "outputs": [
        {
          "output_type": "stream",
          "name": "stdout",
          "text": [
            "\n",
            "Top 30 features (by gain):\n",
            " 1. frame.time_relative                      1294698.46\n",
            " 2. wlan_radio.signal_dbm                    476506.52\n",
            " 3. wlan_radio.duration                      391373.77\n",
            " 4. radiotap.dbm_antsignal                   289065.31\n",
            " 5. radiotap.channel.freq                    275291.66\n",
            " 6. frame.len                                111145.24\n",
            " 7. wlan.fc.subtype                          65087.00\n",
            " 8. wlan.duration                            61635.82\n",
            " 9. wlan.fc.protected                        35384.21\n",
            "10. wlan.fc.type                             18731.22\n",
            "11. wlan_radio.channel                       16019.36\n",
            "12. wlan_radio.data_rate                     15168.32\n",
            "13. wlan.seq                                 9864.91\n",
            "14. radiotap.datarate                        7848.58\n",
            "15. wlan_radio.phy                           6991.60\n",
            "16. frame.time_delta                         3587.90\n",
            "17. radiotap.length                          3351.10\n",
            "18. wlan.country_info.fnm                    2001.69\n",
            "19. wlan.fc.ds                               1186.59\n",
            "20. radiotap.channel.flags.ofdm              668.67\n",
            "21. wlan_radio.frequency                     511.68\n",
            "22. frame.time_delta_displayed               411.04\n",
            "23. wlan.fc.retry                            35.38\n",
            "24. wlan.fc.moredata                         20.77\n",
            "25. wlan.fc.pwrmgt                           18.31\n",
            "26. frame.encap_type                         0.00\n",
            "27. radiotap.channel.flags.cck               0.00\n",
            "28. radiotap.rxflags                         0.00\n",
            "29. wlan.fc.frag                             0.00\n",
            "30. wlan.fc.order                            0.00\n"
          ]
        }
      ]
    },
    {
      "cell_type": "code",
      "source": [
        "best_thr"
      ],
      "metadata": {
        "colab": {
          "base_uri": "https://localhost:8080/"
        },
        "id": "SUWtJVFRh4DZ",
        "outputId": "0156d196-c4cc-4a59-b9a5-0939a60d3d61"
      },
      "execution_count": null,
      "outputs": [
        {
          "output_type": "execute_result",
          "data": {
            "text/plain": [
              "np.float64(0.4)"
            ]
          },
          "metadata": {},
          "execution_count": 41
        }
      ]
    },
    {
      "cell_type": "code",
      "source": [
        "# LGB-6 — Save bundle for inference (preprocessors + model)\n",
        "from joblib import dump\n",
        "\n",
        "cat_cols_in_pre = [c for c in X_tr_pre.columns if str(X_tr_pre[c].dtype) == \"category\"]\n",
        "bundle = {\n",
        "    \"imputer\": num_imputer,\n",
        "    \"scaler\": scaler,\n",
        "    \"num_cols\": num_cols,\n",
        "    \"cat_cols\": cat_cols_in_pre,\n",
        "    \"feature_order\": X_tr_pre.columns.tolist(),\n",
        "    \"best_threshold\": float(best_thr),\n",
        "    \"model\": model,\n",
        "    \"best_iteration\": int(best_iter),\n",
        "}\n",
        "\n",
        "dump(bundle, \"binary_ids_lightgbm_bundle.joblib\")\n",
        "print(\"Saved -> binary_ids_lightgbm_bundle.joblib\")\n"
      ],
      "metadata": {
        "colab": {
          "base_uri": "https://localhost:8080/"
        },
        "id": "QbWlh3WngG_u",
        "outputId": "8ba2ad67-3510-4e67-f4c3-c204faa1623b"
      },
      "execution_count": null,
      "outputs": [
        {
          "output_type": "stream",
          "name": "stdout",
          "text": [
            "Saved -> binary_ids_lightgbm_bundle.joblib\n"
          ]
        }
      ]
    }
  ]
}